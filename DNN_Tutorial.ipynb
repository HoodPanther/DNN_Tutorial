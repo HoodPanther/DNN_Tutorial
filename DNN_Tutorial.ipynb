{
 "cells": [
  {
   "cell_type": "code",
   "execution_count": 1,
   "metadata": {
    "collapsed": false
   },
   "outputs": [
    {
     "name": "stderr",
     "output_type": "stream",
     "text": [
      "Using gpu device 0: Tesla K40c (CNMeM is enabled with initial size: 45.0% of memory, CuDNN 3007)\n"
     ]
    }
   ],
   "source": [
    "import numpy as np\n",
    "from scipy.io import loadmat\n",
    "from sklearn.linear_model import LogisticRegression as LR\n",
    "import matplotlib.pyplot as plt\n",
    "%matplotlib inline\n",
    "\n",
    "# Theano imports\n",
    "import theano\n",
    "theano.config.floatX = 'float32'\n",
    "import theano.tensor as T\n",
    "\n",
    "# Plotting utility\n",
    "from utils import tile_raster_images as tri"
   ]
  },
  {
   "cell_type": "markdown",
   "metadata": {},
   "source": [
    "# The dataset\n",
    "The dataset is the mnist digits which is a common toy data set for testing machine learning methods on images. This is a subset of the mnist set which have also been shrunked in size. Let's load them and plot some. In addition to the images, there are also the labels: 0-9 or even-odd.\n",
    "\n",
    "Load the data."
   ]
  },
  {
   "cell_type": "code",
   "execution_count": 2,
   "metadata": {
    "collapsed": true
   },
   "outputs": [],
   "source": [
    "data = loadmat('small_mnist.mat')\n",
    "\n",
    "# Training data (images, 0-9, even-odd)\n",
    "# Images are stored in a (batch, x, y) array\n",
    "# Labels are integers\n",
    "train_im = data['train_im']\n",
    "train_y = data['train_y'].ravel()\n",
    "train_eo = data['train_eo'].ravel()\n",
    "\n",
    "# Validation data (images, 0-9, even-odd)\n",
    "# Same format as training data\n",
    "valid_im = data['valid_im']\n",
    "valid_y = data['valid_y'].ravel()\n",
    "valid_eo = data['valid_eo'].ravel()"
   ]
  },
  {
   "cell_type": "markdown",
   "metadata": {},
   "source": [
    "Plot 10 of the training images. Rerun this cell to plot new images."
   ]
  },
  {
   "cell_type": "code",
   "execution_count": 3,
   "metadata": {
    "collapsed": false
   },
   "outputs": [
    {
     "name": "stdout",
     "output_type": "stream",
     "text": [
      "Labels: [0 7 6 3 1 5 8 7 9 4]\n",
      "Odd-Even: [0 1 0 1 1 1 0 1 1 0]\n"
     ]
    },
    {
     "data": {
      "image/png": "[encoded data removed]",
      "text/plain": [
       "<matplotlib.figure.Figure at 0x7ff69fe4e490>"
      ]
     },
     "metadata": {},
     "output_type": "display_data"
    }
   ],
   "source": [
    "im_size = train_im.shape[-1]\n",
    "order = np.random.permutation(train_im.shape[0])\n",
    "ims = tri(train_im[order[:10]].reshape((-1, im_size**2)), (im_size, im_size), (1, 10), (1,1))\n",
    "plt.imshow(ims, cmap='gray', interpolation='nearest')\n",
    "plt.axis('off')\n",
    "print('Labels: {}'.format(train_y[order[:10]]))\n",
    "print('Odd-Even: {}'.format(train_eo[order[:10]]))"
   ]
  },
  {
   "cell_type": "markdown",
   "metadata": {},
   "source": [
    "## Baseline linear classifier\n",
    "Before we spend our precious time setting up and training deep networks on the data, let's see how a simple linear classifier from sklearn can do."
   ]
  },
  {
   "cell_type": "code",
   "execution_count": 4,
   "metadata": {
    "collapsed": true
   },
   "outputs": [],
   "source": [
    "# Create the classifier to do multinomial classification\n",
    "linear_classifier = LR(solver='lbfgs', multi_class='multinomial', C=0.1)"
   ]
  },
  {
   "cell_type": "code",
   "execution_count": 5,
   "metadata": {
    "collapsed": false
   },
   "outputs": [
    {
     "name": "stdout",
     "output_type": "stream",
     "text": [
      "Training Error on (0-9): 0.914\n",
      "Validation Error on (0-9): 0.899\n"
     ]
    }
   ],
   "source": [
    "# Train and evaluate the classifier\n",
    "linear_classifier.fit(train_im.reshape(-1, im_size**2), train_y)\n",
    "print('Training Error on (0-9): {}'.format(linear_classifier.score(train_im.reshape(-1, im_size**2), train_y)))\n",
    "print('Validation Error on (0-9): {}'.format(linear_classifier.score(valid_im.reshape(-1, im_size**2), valid_y)))"
   ]
  },
  {
   "cell_type": "markdown",
   "metadata": {},
   "source": [
    "Try training a linear classifier on the Even-Odd labels: train_eo!"
   ]
  },
  {
   "cell_type": "markdown",
   "metadata": {},
   "source": [
    "# Using a Deep Nets library\n",
    "If you're just starting off with deep nets and want to quickly try them on a dataset it is probably easiest to start with an existing library rather than writing your own. There are now a bunch of different libraries written for Python. We'll be using Keras which is designed to be easy to use. In matlab, there is the Neural Network Toolbox.\n",
    "\n",
    "Keras documentation can be found here:\n",
    "http://keras.io/\n",
    "\n",
    "We'll do the next most complicated network comparer to linear regression: a two layer network!"
   ]
  },
  {
   "cell_type": "code",
   "execution_count": 6,
   "metadata": {
    "collapsed": false
   },
   "outputs": [
    {
     "name": "stderr",
     "output_type": "stream",
     "text": [
      "Using Theano backend.\n"
     ]
    }
   ],
   "source": [
    "# Import things from Keras Library\n",
    "from keras.models import Sequential\n",
    "from keras.layers import Dense, Dropout, Activation, Flatten\n",
    "from keras.layers.convolutional import Convolution2D\n",
    "from keras.regularizers import l2\n",
    "from keras.optimizers import SGD, Adam, RMSprop\n",
    "from keras.utils import np_utils"
   ]
  },
  {
   "cell_type": "markdown",
   "metadata": {},
   "source": [
    "## Fully connected MLP\n",
    "This is a simple network made from two layers. On the Keras documentation page, you can find other nonlinearities under \"Core Layers\".\n",
    "\n",
    "You can add more layers, changes the layers, change the optimizer, or add dropout."
   ]
  },
  {
   "cell_type": "code",
   "execution_count": 7,
   "metadata": {
    "collapsed": false,
    "scrolled": false
   },
   "outputs": [
    {
     "name": "stdout",
     "output_type": "stream",
     "text": [
      "Shape after layer 1: (None, 50)\n",
      "\n",
      "Epoch 1/20\n",
      "10000/10000 [==============================] - 0s - loss: 1.5874 - acc: 0.5948     \n",
      "Epoch 2/20\n",
      "10000/10000 [==============================] - 0s - loss: 0.8247 - acc: 0.8305     \n",
      "Epoch 3/20\n",
      "10000/10000 [==============================] - 0s - loss: 0.6166 - acc: 0.8693     \n",
      "Epoch 4/20\n",
      "10000/10000 [==============================] - 0s - loss: 0.5266 - acc: 0.8881     \n",
      "Epoch 5/20\n",
      "10000/10000 [==============================] - 0s - loss: 0.4770 - acc: 0.9002     \n",
      "Epoch 6/20\n",
      "10000/10000 [==============================] - 0s - loss: 0.4457 - acc: 0.9036     \n",
      "Epoch 7/20\n",
      "10000/10000 [==============================] - 0s - loss: 0.4227 - acc: 0.9076     \n",
      "Epoch 8/20\n",
      "10000/10000 [==============================] - 0s - loss: 0.4061 - acc: 0.9121     \n",
      "Epoch 9/20\n",
      "10000/10000 [==============================] - 0s - loss: 0.3920 - acc: 0.9147     \n",
      "Epoch 10/20\n",
      "10000/10000 [==============================] - 0s - loss: 0.3802 - acc: 0.9169     \n",
      "Epoch 11/20\n",
      "10000/10000 [==============================] - 0s - loss: 0.3703 - acc: 0.9198     \n",
      "Epoch 12/20\n",
      "10000/10000 [==============================] - 0s - loss: 0.3622 - acc: 0.9208     \n",
      "Epoch 13/20\n",
      "10000/10000 [==============================] - 0s - loss: 0.3539 - acc: 0.9223     \n",
      "Epoch 14/20\n",
      "10000/10000 [==============================] - 0s - loss: 0.3477 - acc: 0.9239     \n",
      "Epoch 15/20\n",
      "10000/10000 [==============================] - 0s - loss: 0.3419 - acc: 0.9256     \n",
      "Epoch 16/20\n",
      "10000/10000 [==============================] - 0s - loss: 0.3362 - acc: 0.9275     \n",
      "Epoch 17/20\n",
      "10000/10000 [==============================] - 0s - loss: 0.3300 - acc: 0.9279     \n",
      "Epoch 18/20\n",
      "10000/10000 [==============================] - 0s - loss: 0.3251 - acc: 0.9298     \n",
      "Epoch 19/20\n",
      "10000/10000 [==============================] - 0s - loss: 0.3201 - acc: 0.9301     \n",
      "Epoch 20/20\n",
      "10000/10000 [==============================] - 0s - loss: 0.3164 - acc: 0.9309     \n",
      "10000/10000 [==============================] - 0s     \n",
      "1000/1000 [==============================] - 0s     \n",
      "\n",
      "Train loss: 0.241007222906, train accuracy: 0.934300003052\n",
      "Validation loss: 0.306711070985, validation accuracy: 0.905999994278\n"
     ]
    }
   ],
   "source": [
    "# Create the network!\n",
    "mlp = Sequential()\n",
    "\n",
    "# First fully connected layer\n",
    "mlp.add(Dense(im_size**2/2, input_shape=(im_size**2,), W_regularizer=l2(0.001))) # number of hidden units, default is 100\n",
    "mlp.add(Activation('tanh')) # nonlinearity\n",
    "print('Shape after layer 1: {}'.format(mlp.output_shape))\n",
    "\n",
    "# Second fully connected layer with softmax output\n",
    "mlp.add(Dropout(0.0)) # dropout is currently turned off, you may need to train for more epochs if nonzero\n",
    "mlp.add(Dense(10)) # number of targets, 10 for y, 2 for eo\n",
    "mlp.add(Activation('softmax'))\n",
    "\n",
    "# Adam is a simple optimizer, SGD has more parameters and is slower but may give better results\n",
    "opt = Adam()\n",
    "#opt = RMSprop()\n",
    "#opt = SGD(lr=0.1, momentum=0.9, decay=0.0001, nesterov=True)\n",
    "print('')\n",
    "mlp.compile(loss='categorical_crossentropy', optimizer=opt, metrics=['accuracy'])\n",
    "mlp.fit(train_im.reshape(-1, im_size**2), np_utils.to_categorical(train_y), nb_epoch=20, batch_size=100)\n",
    "tr_score = mlp.evaluate(train_im.reshape(-1, im_size**2), np_utils.to_categorical(train_y), batch_size=100)\n",
    "va_score = mlp.evaluate(valid_im.reshape(-1, im_size**2), np_utils.to_categorical(valid_y), batch_size=100)\n",
    "print('')\n",
    "print('Train loss: {}, train accuracy: {}'.format(*tr_score))\n",
    "print('Validation loss: {}, validation accuracy: {}'.format(*va_score))"
   ]
  },
  {
   "cell_type": "markdown",
   "metadata": {},
   "source": [
    "## Convolutional MLP\n",
    "We can also have the first layer be a set of small filters which are convolved with the images.\n",
    "\n",
    "Try different parameters and see what happens. (This network might be slow.)"
   ]
  },
  {
   "cell_type": "code",
   "execution_count": 8,
   "metadata": {
    "collapsed": false
   },
   "outputs": [
    {
     "name": "stdout",
     "output_type": "stream",
     "text": [
      "Shape after layer 1: (None, 20, 3, 3)\n",
      "Shape after flatten: (None, 180)\n",
      "\n",
      "Epoch 1/20\n",
      "10000/10000 [==============================] - 0s - loss: 0.5285 - acc: 0.8399     \n",
      "Epoch 2/20\n",
      "10000/10000 [==============================] - 0s - loss: 0.2627 - acc: 0.9228     \n",
      "Epoch 3/20\n",
      "10000/10000 [==============================] - 0s - loss: 0.1971 - acc: 0.9410     \n",
      "Epoch 4/20\n",
      "10000/10000 [==============================] - 0s - loss: 0.1541 - acc: 0.9546     \n",
      "Epoch 5/20\n",
      "10000/10000 [==============================] - 0s - loss: 0.1265 - acc: 0.9624     \n",
      "Epoch 6/20\n",
      "10000/10000 [==============================] - 0s - loss: 0.1015 - acc: 0.9710     \n",
      "Epoch 7/20\n",
      "10000/10000 [==============================] - 0s - loss: 0.0865 - acc: 0.9755     \n",
      "Epoch 8/20\n",
      "10000/10000 [==============================] - 0s - loss: 0.0735 - acc: 0.9793     \n",
      "Epoch 9/20\n",
      "10000/10000 [==============================] - 0s - loss: 0.0594 - acc: 0.9843     \n",
      "Epoch 10/20\n",
      "10000/10000 [==============================] - 0s - loss: 0.0491 - acc: 0.9867     \n",
      "Epoch 11/20\n",
      "10000/10000 [==============================] - 0s - loss: 0.0415 - acc: 0.9901     \n",
      "Epoch 12/20\n",
      "10000/10000 [==============================] - 0s - loss: 0.0342 - acc: 0.9927     \n",
      "Epoch 13/20\n",
      "10000/10000 [==============================] - 0s - loss: 0.0267 - acc: 0.9957     \n",
      "Epoch 14/20\n",
      "10000/10000 [==============================] - 0s - loss: 0.0227 - acc: 0.9970     \n",
      "Epoch 15/20\n",
      "10000/10000 [==============================] - 0s - loss: 0.0192 - acc: 0.9974     \n",
      "Epoch 16/20\n",
      "10000/10000 [==============================] - 0s - loss: 0.0155 - acc: 0.9989     \n",
      "Epoch 17/20\n",
      "10000/10000 [==============================] - 0s - loss: 0.0135 - acc: 0.9989     \n",
      "Epoch 18/20\n",
      "10000/10000 [==============================] - 0s - loss: 0.0119 - acc: 0.9989     \n",
      "Epoch 19/20\n",
      "10000/10000 [==============================] - 0s - loss: 0.0099 - acc: 0.9997     \n",
      "Epoch 20/20\n",
      "10000/10000 [==============================] - 0s - loss: 0.0088 - acc: 0.9999     \n",
      "10000/10000 [==============================] - 0s     \n",
      "1000/1000 [==============================] - 0s     \n",
      "\n",
      "Train loss: 0.00737697794801, train accuracy: 0.999800000191\n",
      "Validation loss: 0.165483399853, validation accuracy: 0.959000003338\n"
     ]
    }
   ],
   "source": [
    "# Create the network!\n",
    "cnn = Sequential()\n",
    "\n",
    "# First fully connected layer\n",
    "cnn.add(Convolution2D(20, 5, 5, input_shape=(1, im_size, im_size), border_mode='valid', subsample=(2, 2)))\n",
    "cnn.add(Activation('tanh')) # nonlinearity\n",
    "print('Shape after layer 1: {}'.format(cnn.output_shape))\n",
    "\n",
    "# Take outputs and turn them into a vector\n",
    "cnn.add(Flatten())\n",
    "print('Shape after flatten: {}'.format(cnn.output_shape))\n",
    "\n",
    "# Fully connected layer\n",
    "cnn.add(Dropout(0.0)) # dropout is currently turned off, you may need to train for more epochs if nonzero\n",
    "cnn.add(Dense(100)) # number of targets, 10 for y, 2 for eo\n",
    "cnn.add(Activation('tanh'))\n",
    "\n",
    "# Second fully connected layer with softmax output\n",
    "cnn.add(Dropout(0.0)) # dropout is currently turned off, you may need to train for more epochs if nonzero\n",
    "cnn.add(Dense(10)) # number of targets, 10 for y, 2 for eo\n",
    "cnn.add(Activation('softmax'))\n",
    "\n",
    "# Adam is a simple optimizer, SGD has more parameters and is slower but may give better results\n",
    "#opt = Adam()\n",
    "#opt = RMSprop()\n",
    "opt = SGD(lr=0.1, momentum=0.9, decay=0.0001, nesterov=True)\n",
    "print('')\n",
    "cnn.compile(loss='categorical_crossentropy', optimizer=opt, metrics=['accuracy'])\n",
    "cnn.fit(train_im[:, np.newaxis, ...], np_utils.to_categorical(train_y), nb_epoch=20, batch_size=100)\n",
    "tr_score = cnn.evaluate(train_im[:, np.newaxis, ...], np_utils.to_categorical(train_y), batch_size=100)\n",
    "va_score = cnn.evaluate(valid_im[:, np.newaxis, ...], np_utils.to_categorical(valid_y), batch_size=100)\n",
    "print('')\n",
    "print('Train loss: {}, train accuracy: {}'.format(*tr_score))\n",
    "print('Validation loss: {}, validation accuracy: {}'.format(*va_score))"
   ]
  },
  {
   "cell_type": "markdown",
   "metadata": {
    "collapsed": true
   },
   "source": [
    "# Visualizing the filters\n",
    "## Linear classifier"
   ]
  },
  {
   "cell_type": "code",
   "execution_count": 9,
   "metadata": {
    "collapsed": false
   },
   "outputs": [
    {
     "data": {
      "text/plain": [
       "(-0.5, 108.5, 9.5, -0.5)"
      ]
     },
     "execution_count": 9,
     "metadata": {},
     "output_type": "execute_result"
    },
    {
     "data": {
      "image/png": "[encoded data removed]",
      "text/plain": [
       "<matplotlib.figure.Figure at 0x7ff632defd50>"
      ]
     },
     "metadata": {},
     "output_type": "display_data"
    }
   ],
   "source": [
    "W = linear_classifier.coef_\n",
    "ims = tri(W, (im_size, im_size), (1, 10), (1,1))\n",
    "plt.imshow(ims, cmap='gray', interpolation='nearest')\n",
    "plt.axis('off')"
   ]
  },
  {
   "cell_type": "markdown",
   "metadata": {},
   "source": [
    "## MLP"
   ]
  },
  {
   "cell_type": "code",
   "execution_count": 10,
   "metadata": {
    "collapsed": false
   },
   "outputs": [
    {
     "data": {
      "text/plain": [
       "(-0.5, 108.5, 53.5, -0.5)"
      ]
     },
     "execution_count": 10,
     "metadata": {},
     "output_type": "execute_result"
    },
    {
     "data": {
      "image/png": "[encoded data removed]",
      "text/plain": [
       "<matplotlib.figure.Figure at 0x7ff632d29c90>"
      ]
     },
     "metadata": {},
     "output_type": "display_data"
    }
   ],
   "source": [
    "W = mlp.get_weights()[0].T\n",
    "ims = tri(W, (im_size, im_size), (W.shape[0]//10, 10), (1,1))\n",
    "plt.imshow(ims, cmap='gray', interpolation='nearest')\n",
    "plt.axis('off')"
   ]
  },
  {
   "cell_type": "markdown",
   "metadata": {},
   "source": [
    "## CNN"
   ]
  },
  {
   "cell_type": "code",
   "execution_count": 11,
   "metadata": {
    "collapsed": false
   },
   "outputs": [
    {
     "data": {
      "text/plain": [
       "(-0.5, 58.5, 10.5, -0.5)"
      ]
     },
     "execution_count": 11,
     "metadata": {},
     "output_type": "execute_result"
    },
    {
     "data": {
      "image/png": "[encoded data removed]",
      "text/plain": [
       "<matplotlib.figure.Figure at 0x7ff632deff50>"
      ]
     },
     "metadata": {},
     "output_type": "display_data"
    }
   ],
   "source": [
    "W = cnn.get_weights()[0]\n",
    "ims = tri(W.reshape(-1, np.prod(W.shape[2:])), (W.shape[2], W.shape[3]), (W.shape[0]//10, 10), (1,1))\n",
    "plt.imshow(ims, cmap='gray', interpolation='nearest')\n",
    "plt.axis('off')"
   ]
  }
 ],
 "metadata": {
  "kernelspec": {
   "display_name": "Python 2",
   "language": "python",
   "name": "python2"
  },
  "language_info": {
   "codemirror_mode": {
    "name": "ipython",
    "version": 2
   },
   "file_extension": ".py",
   "mimetype": "text/x-python",
   "name": "python",
   "nbconvert_exporter": "python",
   "pygments_lexer": "ipython2",
   "version": "2.7.11"
  }
 },
 "nbformat": 4,
 "nbformat_minor": 0
}
