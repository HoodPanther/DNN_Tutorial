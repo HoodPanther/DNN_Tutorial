{
 "cells": [
  {
   "cell_type": "code",
   "execution_count": null,
   "metadata": {
    "collapsed": false
   },
   "outputs": [],
   "source": [
    "import numpy as np\n",
    "from scipy.io import loadmat\n",
    "from sklearn.linear_model import LogisticRegression as LR\n",
    "import matplotlib.pyplot as plt\n",
    "%matplotlib inline\n",
    "\n",
    "# Theano imports\n",
    "import theano\n",
    "theano.config.floatX = 'float32'\n",
    "import theano.tensor as T\n",
    "\n",
    "# Plotting utility\n",
    "from utils import tile_raster_images as tri"
   ]
  },
  {
   "cell_type": "markdown",
   "metadata": {},
   "source": [
    "# The dataset\n",
    "The dataset is the mnist digits which is a common toy data set for testing machine learning methods on images. This is a subset of the mnist set which have also been shrunked in size. Let's load them and plot some. In addition to the images, there are also the labels: 0-9 or even-odd.\n",
    "\n",
    "Load the data."
   ]
  },
  {
   "cell_type": "code",
   "execution_count": null,
   "metadata": {
    "collapsed": true
   },
   "outputs": [],
   "source": [
    "data = loadmat('small_mnist.mat')\n",
    "\n",
    "# Training data (images, 0-9, even-odd)\n",
    "# Images are stored in a (batch, x, y) array\n",
    "# Labels are integers\n",
    "train_im = data['train_im']\n",
    "train_y = data['train_y'].ravel()\n",
    "train_eo = data['train_eo'].ravel()\n",
    "\n",
    "# Validation data (images, 0-9, even-odd)\n",
    "# Same format as training data\n",
    "valid_im = data['valid_im']\n",
    "valid_y = data['valid_y'].ravel()\n",
    "valid_eo = data['valid_eo'].ravel()"
   ]
  },
  {
   "cell_type": "markdown",
   "metadata": {},
   "source": [
    "Plot 10 of the training images"
   ]
  },
  {
   "cell_type": "code",
   "execution_count": null,
   "metadata": {
    "collapsed": false
   },
   "outputs": [],
   "source": [
    "im_size = train_im.shape[-1]\n",
    "ims = tri(train_im[:10].reshape((-1, im_size**2)), (im_size, im_size), (1, 10), (1,1))\n",
    "plt.imshow(ims, cmap='gray', interpolation='nearest')\n",
    "plt.axis('off')\n",
    "print('Labels: {}'.format(train_y[:10]))\n",
    "print('Odd-Even: {}'.format(train_eo[:10]))"
   ]
  },
  {
   "cell_type": "markdown",
   "metadata": {},
   "source": [
    "## Baseline linear classifier\n",
    "Before we spend our precious time setting up and training deep networks on the data, let's see how a simple linear classifier from sklearn can do."
   ]
  },
  {
   "cell_type": "code",
   "execution_count": null,
   "metadata": {
    "collapsed": true
   },
   "outputs": [],
   "source": [
    "# Create the classifier to do multinomial classification\n",
    "linear_classifier = LR(solver='lbfgs', multi_class='multinomial')"
   ]
  },
  {
   "cell_type": "code",
   "execution_count": null,
   "metadata": {
    "collapsed": false
   },
   "outputs": [],
   "source": [
    "# Train and evaluate the classifier\n",
    "linear_classifier.fit(train_im.reshape(-1, im_size**2), train_y)\n",
    "print('Training Error on (0-9): {}'.format(linear_classifier.score(train_im.reshape(-1, im_size**2), train_y)))\n",
    "print('Validation Error on (0-9): {}'.format(linear_classifier.score(valid_im.reshape(-1, im_size**2), valid_y)))"
   ]
  },
  {
   "cell_type": "markdown",
   "metadata": {},
   "source": [
    "Try training a linear classifier on the Even-Odd labels: train_eo!!!!!"
   ]
  },
  {
   "cell_type": "markdown",
   "metadata": {},
   "source": [
    "# Using a Deep Nets library\n",
    "If you're just starting off with deep nets and want to quickly try them on a dataset it is probably easiest to start with an existing library rather than writing your own. There are now a bunch of different libraries written for Python. We'll be using Keras which is designed to be easy to use. In matlab, there is the Neural Network Toolbox.\n",
    "\n",
    "We'll do the next most complicated network comparer to linear regression: a two layer network!"
   ]
  },
  {
   "cell_type": "code",
   "execution_count": null,
   "metadata": {
    "collapsed": false
   },
   "outputs": [],
   "source": [
    "# Import things from Keras Library\n",
    "from keras.models import Sequential\n",
    "from keras.layers import Dense, Dropout, Activation\n",
    "from keras.optimizers import SGD, Adam, RMSprop\n",
    "from keras.utils import np_utils"
   ]
  },
  {
   "cell_type": "markdown",
   "metadata": {},
   "source": [
    "This is a simple network made from two layers."
   ]
  },
  {
   "cell_type": "code",
   "execution_count": null,
   "metadata": {
    "collapsed": false,
    "scrolled": false
   },
   "outputs": [],
   "source": [
    "# Create the network!\n",
    "model = Sequential()\n",
    "\n",
    "# First fully connected layer\n",
    "model.add(Dropout(0.0, input_shape=(im_size**2,)))\n",
    "model.add(Dense(im_size**2))\n",
    "model.add(Activation('tanh'))\n",
    "\n",
    "# Second fully connected layer with softmax output\n",
    "model.add(Dropout(0.0))\n",
    "model.add(Dense(10))\n",
    "model.add(Activation('softmax'))\n",
    "\n",
    "# Adam is a simple optimizer, SGD has more parameters but may give better results\n",
    "#opt = Adam()\n",
    "#opt = RMSprop()\n",
    "opt = SGD(lr=0.1, momentum=0.9, decay=0.0001, nesterov=True)\n",
    "model.compile(loss='categorical_crossentropy', optimizer=opt, metrics=['accuracy'])\n",
    "model.fit(train_im.reshape(-1, im_size**2), np_utils.to_categorical(train_y), nb_epoch=20, batch_size=100)\n",
    "print model.evaluate(train_im.reshape(-1, im_size**2), np_utils.to_categorical(train_y), batch_size=100)\n",
    "print model.evaluate(valid_im.reshape(-1, im_size**2), np_utils.to_categorical(valid_y), batch_size=100)"
   ]
  },
  {
   "cell_type": "markdown",
   "metadata": {},
   "source": [
    "# Junk"
   ]
  },
  {
   "cell_type": "code",
   "execution_count": null,
   "metadata": {
    "collapsed": false
   },
   "outputs": [],
   "source": [
    "from pylearn2.datasets.mnist import MNIST\n",
    "from scipy.io import savemat"
   ]
  },
  {
   "cell_type": "code",
   "execution_count": null,
   "metadata": {
    "collapsed": false
   },
   "outputs": [],
   "source": [
    "ds = MNIST('train')\n",
    "ts = MNIST('test')\n",
    "train_size = 10000\n",
    "valid_size = 1000\n",
    "offset = 1\n",
    "jump = 2\n",
    "crop = 2"
   ]
  },
  {
   "cell_type": "code",
   "execution_count": null,
   "metadata": {
    "collapsed": false
   },
   "outputs": [],
   "source": [
    "trX = ds.X.reshape(-1, 28, 28)\n",
    "trX = (trX[:, ::jump, ::jump] + trX[:, offset::jump, offset::jump])/2.\n",
    "trX = trX[:, crop:-crop, crop:-crop]\n",
    "teX = ts.X.reshape(-1, 28, 28)\n",
    "teX = (teX[:, ::jump, ::jump] + teX[:, offset::jump, offset::jump])/2.\n",
    "teX = teX[:, crop:-crop, crop:-crop]\n",
    "\n",
    "train_X = trX[:train_size]\n",
    "train_y = ds.y[:train_size]\n",
    "valid_X = teX[-valid_size:]\n",
    "valid_y = ts.y[-valid_size:]\n",
    "train_yp = (train_y %2).ravel()\n",
    "valid_yp = (valid_y %2).ravel()\n",
    "\n",
    "#valid_X -= train_X.mean(axis=0)\n",
    "#train_X -= train_X.mean(axis=0)"
   ]
  },
  {
   "cell_type": "code",
   "execution_count": null,
   "metadata": {
    "collapsed": false
   },
   "outputs": [],
   "source": [
    "data = {'train_im': train_X,\n",
    "        'train_y': train_y,\n",
    "        'valid_im': valid_X,\n",
    "        'valid_y': valid_y,\n",
    "        'train_eo': train_yp,\n",
    "        'valid_eo': valid_yp}\n",
    "savemat('small_mnist.mat', data)"
   ]
  },
  {
   "cell_type": "code",
   "execution_count": null,
   "metadata": {
    "collapsed": false
   },
   "outputs": [],
   "source": [
    "ls -rtlh"
   ]
  },
  {
   "cell_type": "code",
   "execution_count": null,
   "metadata": {
    "collapsed": true
   },
   "outputs": [],
   "source": []
  }
 ],
 "metadata": {
  "kernelspec": {
   "display_name": "Python 2",
   "language": "python",
   "name": "python2"
  },
  "language_info": {
   "codemirror_mode": {
    "name": "ipython",
    "version": 2
   },
   "file_extension": ".py",
   "mimetype": "text/x-python",
   "name": "python",
   "nbconvert_exporter": "python",
   "pygments_lexer": "ipython2",
   "version": "2.7.11"
  }
 },
 "nbformat": 4,
 "nbformat_minor": 0
}
